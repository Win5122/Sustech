{
 "cells": [
  {
   "cell_type": "code",
   "execution_count": null,
   "id": "9e09ccee-328b-4511-afcf-c879b756f28b",
   "metadata": {},
   "outputs": [
    {
     "name": "stderr",
     "output_type": "stream",
     "text": [
      "your 131072x1 screen size is bogus. expect trouble\n",
      "24/11/27 17:29:58 WARN Utils: Your hostname, DESKTOP-E24BUDU resolves to a loopback address: 127.0.1.1; using 10.255.255.254 instead (on interface lo)\n",
      "24/11/27 17:29:58 WARN Utils: Set SPARK_LOCAL_IP if you need to bind to another address\n",
      "Setting default log level to \"WARN\".\n",
      "To adjust logging level use sc.setLogLevel(newLevel). For SparkR, use setLogLevel(newLevel).\n",
      "24/11/27 17:29:58 WARN NativeCodeLoader: Unable to load native-hadoop library for your platform... using builtin-java classes where applicable\n",
      "24/11/27 17:29:58 WARN Utils: Service 'SparkUI' could not bind on port 4040. Attempting port 4041.\n"
     ]
    }
   ],
   "source": [
    "from pyspark import SparkContext\n",
    "from pyspark.sql import SparkSession\n",
    "from pyspark.sql import Window\n",
    "import pyspark.sql.functions as f\n",
    "\n",
    "# This is SparkCore and contains RDD's and their transformations and actions \n",
    "sc = SparkContext()\n",
    "\n",
    "# This is SparkSQL and contains DataFrame and their transformations and actions \n",
    "spark = SparkSession \\\n",
    "    .builder \\\n",
    "    .appName(\"Python Spark SQL basic example\") \\\n",
    "    .getOrCreate()"
   ]
  },
  {
   "cell_type": "code",
   "execution_count": 12,
   "id": "ca39a25f",
   "metadata": {},
   "outputs": [
    {
     "name": "stdout",
     "output_type": "stream",
     "text": [
      "ParallelCollectionRDD[8] at readRDDFromFile at PythonRDD.scala:289\n"
     ]
    }
   ],
   "source": [
    "# creating an RDD from a python array \n",
    "array = [1,2.4,3,4,5.2]\n",
    "my_rdd = sc.parallelize(array) # creates a collection RDD which can hold various types of items (ints and floats in this case)\n",
    "print(my_rdd) "
   ]
  },
  {
   "cell_type": "code",
   "execution_count": 13,
   "id": "9a0e6e5d",
   "metadata": {},
   "outputs": [
    {
     "data": {
      "text/plain": [
       "[1, 2.4, 3, 4, 5.2]"
      ]
     },
     "execution_count": 13,
     "metadata": {},
     "output_type": "execute_result"
    }
   ],
   "source": [
    "# if you want to print an RRD you need to use the 'collect' actions which collects the partitions from the nodes to the driver and prints them\n",
    "my_rdd.collect()"
   ]
  },
  {
   "cell_type": "code",
   "execution_count": 18,
   "id": "3d148400",
   "metadata": {},
   "outputs": [
    {
     "name": "stdout",
     "output_type": "stream",
     "text": [
      "[2, 3.4, 4, 5, 6.2]\n",
      "5\n"
     ]
    }
   ],
   "source": [
    "# map takes a function applies it to all elements of the RDD (its a transformation so in order to see the result we need to call an actions such as collect or count)\n",
    "def add_one(x):\n",
    "    return x+1\n",
    "    \n",
    "print(my_rdd.map(add_one).collect())\n",
    "print(my_rdd.count())"
   ]
  },
  {
   "cell_type": "code",
   "execution_count": null,
   "id": "dbb2a467",
   "metadata": {},
   "outputs": [
    {
     "data": {
      "text/plain": [
       "[2, 3.4, 4, 5, 6.2]"
      ]
     },
     "execution_count": 20,
     "metadata": {},
     "output_type": "execute_result"
    }
   ],
   "source": [
    "# In spark its common to use anonymous functions (lamdas) for simple operations\n",
    "my_rdd.map(lambda x: x+ 1).collect() # transformations and actions can be chained with . "
   ]
  },
  {
   "cell_type": "code",
   "execution_count": 38,
   "id": "630621e4",
   "metadata": {},
   "outputs": [],
   "source": [
    "key_pair = [('a',1), ('a',2), ('b',3), ('b',4)] \n",
    "pair_rdd = sc.parallelize(key_pair) # this now represents key value pairs"
   ]
  },
  {
   "cell_type": "code",
   "execution_count": 83,
   "id": "ce08dcb3",
   "metadata": {},
   "outputs": [
    {
     "data": {
      "text/plain": [
       "[('b', <pyspark.resultiterable.ResultIterable at 0x7f8122f73d90>),\n",
       " ('a', <pyspark.resultiterable.ResultIterable at 0x7f8122f73e80>)]"
      ]
     },
     "execution_count": 83,
     "metadata": {},
     "output_type": "execute_result"
    }
   ],
   "source": [
    "grouped = pair_rdd.groupByKey() # this transformation returns <key, result_iterable> pairs\n",
    "grouped.collect()"
   ]
  },
  {
   "cell_type": "code",
   "execution_count": 90,
   "id": "02d8bd1b",
   "metadata": {},
   "outputs": [
    {
     "data": {
      "text/plain": [
       "[('b', [3, 4]), ('a', [1, 2])]"
      ]
     },
     "execution_count": 90,
     "metadata": {},
     "output_type": "execute_result"
    }
   ],
   "source": [
    "def expand_iterable_value(x):\n",
    "    new_key = x[0]\n",
    "    expanded_value = [r for r in x[1]]\n",
    "    return (new_key, expanded_value)\n",
    "\n",
    "# we can exapnd the iterealbe to see them wth a simple map\n",
    "expanded = grouped.map(expand_iterable_value)\n",
    "expanded.collect()\n",
    "\n",
    "# grouped.map(lambda x:(x[0], [r for r in x[1]])).collect()"
   ]
  },
  {
   "cell_type": "code",
   "execution_count": null,
   "id": "e56fd8d3",
   "metadata": {},
   "outputs": [
    {
     "data": {
      "text/plain": [
       "[('b', 7), ('a', 3)]"
      ]
     },
     "execution_count": 93,
     "metadata": {},
     "output_type": "execute_result"
    }
   ],
   "source": [
    "# A pair RDD can be reduced by key\n",
    "# the function should define how the two values with the same key merged\n",
    "# it is applied in the following manner ...reduce(reduce(reduce(k1,k2),k3),k4)....\n",
    "pair_rdd.reduceByKey(lambda v1,v2 : v1+v2).collect()"
   ]
  },
  {
   "cell_type": "code",
   "execution_count": 95,
   "id": "ad4d202a",
   "metadata": {},
   "outputs": [
    {
     "data": {
      "text/plain": [
       "[('a', 2), ('a', 3), ('b', 4), ('b', 5)]"
      ]
     },
     "execution_count": 95,
     "metadata": {},
     "output_type": "execute_result"
    }
   ],
   "source": [
    "pair_rdd.mapValues(lambda x: x+1).collect() # this shold be straight forward now"
   ]
  },
  {
   "cell_type": "code",
   "execution_count": 109,
   "id": "80b3e5d0",
   "metadata": {},
   "outputs": [
    {
     "data": {
      "text/plain": [
       "['hello spark',\n",
       " 'this is is a spark test file',\n",
       " 'this file is for test purposes']"
      ]
     },
     "execution_count": 109,
     "metadata": {},
     "output_type": "execute_result"
    }
   ],
   "source": [
    "# a text file can be read using the following\n",
    "file = sc.textFile(\"data/text.txt\")\n",
    "\n",
    "# retruns an colletion RRD of lines\n",
    "file.collect()"
   ]
  },
  {
   "cell_type": "code",
   "execution_count": 110,
   "id": "57fc18b1",
   "metadata": {},
   "outputs": [
    {
     "data": {
      "text/plain": [
       "[('this', 2),\n",
       " ('is', 3),\n",
       " ('test', 2),\n",
       " ('purposes', 1),\n",
       " ('hello', 1),\n",
       " ('spark', 2),\n",
       " ('a', 1),\n",
       " ('file', 2),\n",
       " ('for', 1)]"
      ]
     },
     "execution_count": 110,
     "metadata": {},
     "output_type": "execute_result"
    }
   ],
   "source": [
    "# word count\n",
    "file.flatMap(lambda x:[(w,1) for w in x.split()]).reduceByKey(lambda v1,v2 : v1+v2).collect()"
   ]
  },
  {
   "cell_type": "code",
   "execution_count": 115,
   "id": "bd5fc88e",
   "metadata": {},
   "outputs": [
    {
     "name": "stdout",
     "output_type": "stream",
     "text": [
      "root\n",
      " |-- InvoiceNo: string (nullable = true)\n",
      " |-- StockCode: string (nullable = true)\n",
      " |-- Description: string (nullable = true)\n",
      " |-- Quantity: integer (nullable = true)\n",
      " |-- InvoiceDate: string (nullable = true)\n",
      " |-- UnitPrice: double (nullable = true)\n",
      " |-- CustomerID: integer (nullable = true)\n",
      " |-- Country: string (nullable = true)\n",
      "\n",
      "+---------+---------+-----------------------------------+--------+--------------+---------+----------+--------------+\n",
      "|InvoiceNo|StockCode|                        Description|Quantity|   InvoiceDate|UnitPrice|CustomerID|       Country|\n",
      "+---------+---------+-----------------------------------+--------+--------------+---------+----------+--------------+\n",
      "|   536365|   85123A| WHITE HANGING HEART T-LIGHT HOLDER|       6|12/1/2010 8:26|     2.55|     17850|United Kingdom|\n",
      "|   536365|    71053|                WHITE METAL LANTERN|       6|12/1/2010 8:26|     3.39|     17850|United Kingdom|\n",
      "|   536365|   84406B|     CREAM CUPID HEARTS COAT HANGER|       8|12/1/2010 8:26|     2.75|     17850|United Kingdom|\n",
      "|   536365|   84029G|KNITTED UNION FLAG HOT WATER BOTTLE|       6|12/1/2010 8:26|     3.39|     17850|United Kingdom|\n",
      "|   536365|   84029E|     RED WOOLLY HOTTIE WHITE HEART.|       6|12/1/2010 8:26|     3.39|     17850|United Kingdom|\n",
      "|   536365|    22752|       SET 7 BABUSHKA NESTING BOXES|       2|12/1/2010 8:26|     7.65|     17850|United Kingdom|\n",
      "|   536365|    21730|  GLASS STAR FROSTED T-LIGHT HOLDER|       6|12/1/2010 8:26|     4.25|     17850|United Kingdom|\n",
      "|   536366|    22633|             HAND WARMER UNION JACK|       6|12/1/2010 8:28|     1.85|     17850|United Kingdom|\n",
      "|   536366|    22632|          HAND WARMER RED POLKA DOT|       6|12/1/2010 8:28|     1.85|     17850|United Kingdom|\n",
      "|   536367|    84879|      ASSORTED COLOUR BIRD ORNAMENT|      32|12/1/2010 8:34|     1.69|     13047|United Kingdom|\n",
      "+---------+---------+-----------------------------------+--------+--------------+---------+----------+--------------+\n",
      "only showing top 10 rows\n",
      "\n"
     ]
    }
   ],
   "source": [
    "# SparkSQL offers the ability to model an DataFrames with RRDs and use SQL on them\n",
    "df = spark.read.csv('data/commerce_data.csv', header=True, inferSchema=True) # header tells spark to use the first like as headers and infer schema tells spark to try and infer the type of data\n",
    "df.printSchema()\n",
    "df.createOrReplaceTempView(\"original\") # this is what creates the TABLE we can use for SQL commands!\n",
    "df.show(10,100)"
   ]
  },
  {
   "cell_type": "code",
   "execution_count": null,
   "id": "7947c2b7",
   "metadata": {},
   "outputs": [
    {
     "name": "stdout",
     "output_type": "stream",
     "text": [
      "+--------------------+--------+\n",
      "|         Description|Quantity|\n",
      "+--------------------+--------+\n",
      "|WHITE HANGING HEA...|       6|\n",
      "| WHITE METAL LANTERN|       6|\n",
      "|CREAM CUPID HEART...|       8|\n",
      "|KNITTED UNION FLA...|       6|\n",
      "|RED WOOLLY HOTTIE...|       6|\n",
      "|SET 7 BABUSHKA NE...|       2|\n",
      "|GLASS STAR FROSTE...|       6|\n",
      "|HAND WARMER UNION...|       6|\n",
      "|HAND WARMER RED P...|       6|\n",
      "|ASSORTED COLOUR B...|      32|\n",
      "|POPPY'S PLAYHOUSE...|       6|\n",
      "|POPPY'S PLAYHOUSE...|       6|\n",
      "|FELTCRAFT PRINCES...|       8|\n",
      "|IVORY KNITTED MUG...|       6|\n",
      "|BOX OF 6 ASSORTED...|       6|\n",
      "|BOX OF VINTAGE JI...|       3|\n",
      "|BOX OF VINTAGE AL...|       2|\n",
      "|HOME BUILDING BLO...|       3|\n",
      "|LOVE BUILDING BLO...|       3|\n",
      "|RECIPE BOX WITH M...|       4|\n",
      "+--------------------+--------+\n",
      "only showing top 20 rows\n",
      "\n"
     ]
    }
   ],
   "source": [
    "# this is one of doing SQL queries of data frames\n",
    "spark.sql(\"SELECT Description,  Quantity FROM original\").show()"
   ]
  },
  {
   "cell_type": "code",
   "execution_count": null,
   "id": "0053b415",
   "metadata": {},
   "outputs": [
    {
     "name": "stdout",
     "output_type": "stream",
     "text": [
      "+--------------------+--------+\n",
      "|         Description|Quantity|\n",
      "+--------------------+--------+\n",
      "|WHITE HANGING HEA...|       6|\n",
      "| WHITE METAL LANTERN|       6|\n",
      "|CREAM CUPID HEART...|       8|\n",
      "|KNITTED UNION FLA...|       6|\n",
      "|RED WOOLLY HOTTIE...|       6|\n",
      "|SET 7 BABUSHKA NE...|       2|\n",
      "|GLASS STAR FROSTE...|       6|\n",
      "|HAND WARMER UNION...|       6|\n",
      "|HAND WARMER RED P...|       6|\n",
      "|ASSORTED COLOUR B...|      32|\n",
      "|POPPY'S PLAYHOUSE...|       6|\n",
      "|POPPY'S PLAYHOUSE...|       6|\n",
      "|FELTCRAFT PRINCES...|       8|\n",
      "|IVORY KNITTED MUG...|       6|\n",
      "|BOX OF 6 ASSORTED...|       6|\n",
      "|BOX OF VINTAGE JI...|       3|\n",
      "|BOX OF VINTAGE AL...|       2|\n",
      "|HOME BUILDING BLO...|       3|\n",
      "|LOVE BUILDING BLO...|       3|\n",
      "|RECIPE BOX WITH M...|       4|\n",
      "+--------------------+--------+\n",
      "only showing top 20 rows\n",
      "\n"
     ]
    }
   ],
   "source": [
    "# this is another way of doing SQL queries of data frames\n",
    "df.select([\"Description\", \"Quantity\"]).show()"
   ]
  },
  {
   "cell_type": "markdown",
   "id": "2baa6353",
   "metadata": {},
   "source": [
    "The following are examples of last weeks tasks using both and RDD and a DataFrame (also a pure python solution to check results)"
   ]
  },
  {
   "cell_type": "code",
   "execution_count": 29,
   "id": "d31b3a00",
   "metadata": {},
   "outputs": [],
   "source": [
    "# CHANGE THIS TO THE CORRECT PATH FOR YOU\n",
    "path_to_commerce_data = \"data/commerce_data.csv\" "
   ]
  },
  {
   "cell_type": "code",
   "execution_count": 59,
   "id": "6c546be4",
   "metadata": {},
   "outputs": [
    {
     "data": {
      "text/plain": [
       "[('United Kingdom', ('WORLD WAR 2 GLIDERS ASSTD DESIGNS', 48326)),\n",
       " ('Netherlands', ('RABBIT NIGHT LIGHT', 4801)),\n",
       " ('France', ('RABBIT NIGHT LIGHT', 4023)),\n",
       " ('Japan', ('RABBIT NIGHT LIGHT', 3401)),\n",
       " ('Australia', ('MINI PAINT SET VINTAGE ', 2916)),\n",
       " ('Sweden', ('MINI PAINT SET VINTAGE ', 2916)),\n",
       " ('EIRE', ('PACK OF 72 RETROSPOT CAKE CASES', 1728)),\n",
       " ('Germany', ('ROUND SNACK BOXES SET OF4 WOODLAND ', 1218)),\n",
       " ('Spain', ('CHILDRENS CUTLERY POLKADOT PINK', 729)),\n",
       " ('Switzerland', ('PLASTERS IN TIN WOODLAND ANIMALS', 639)),\n",
       " ('Norway', ('SMALL FOLDING SCISSOR(POINTED EDGE)', 576)),\n",
       " ('Canada', ('RETRO COFFEE MUGS ASSORTED', 504)),\n",
       " ('Belgium', ('PACK OF 72 RETROSPOT CAKE CASES', 480)),\n",
       " ('Finland', ('CHILDRENS CUTLERY POLKADOT PINK', 480)),\n",
       " ('Channel Islands', ('RAIN PONCHO ', 407)),\n",
       " ('Cyprus', ('HEART DECORATION PAINTED ZINC ', 384)),\n",
       " ('Singapore', ('CHRISTMAS TREE PAINTED ZINC ', 384)),\n",
       " ('Denmark', ('RED  HARMONICA IN BOX ', 288)),\n",
       " ('Austria', ('SET 12 KIDS COLOUR  CHALK STICKS', 288)),\n",
       " ('Portugal', ('POLKADOT PEN', 240)),\n",
       " ('Iceland', ('ICE CREAM SUNDAE LIP GLOSS', 240)),\n",
       " ('Italy', ('ICE CREAM BUBBLES', 200)),\n",
       " ('Hong Kong', ('ROUND SNACK BOXES SET OF4 WOODLAND ', 150)),\n",
       " ('Poland', ('STRAWBERRY CERAMIC TRINKET BOX', 144)),\n",
       " ('Israel', ('WOODLAND CHARLOTTE BAG', 130)),\n",
       " ('Bahrain', ('ICE CREAM SUNDAE LIP GLOSS', 96)),\n",
       " ('Unspecified', ('WORLD WAR 2 GLIDERS ASSTD DESIGNS', 96)),\n",
       " ('USA', ('SET 12 COLOURING PENCILS DOILY', 88)),\n",
       " ('Malta', ('GRAND CHOCOLATECANDLE', 75)),\n",
       " ('United Arab Emirates', ('ASSORTED CHEESE FRIDGE MAGNETS', 72)),\n",
       " ('Czech Republic', ('WOODEN TREE CHRISTMAS SCANDINAVIAN', 72)),\n",
       " ('Lithuania', ('RED  HARMONICA IN BOX ', 48)),\n",
       " ('Greece', ('4 PEAR BOTANICAL DINNER CANDLES', 48)),\n",
       " ('Lebanon', ('ASSTD FRUIT+FLOWERS FRIDGE MAGNETS', 24)),\n",
       " ('Brazil', ('ROSES REGENCY TEACUP AND SAUCER ', 24)),\n",
       " ('European Community', ('SET OF 60 PANTRY DESIGN CAKE CASES ', 24)),\n",
       " ('Saudi Arabia', ('ASSORTED BOTTLE TOP  MAGNETS ', 12)),\n",
       " ('RSA', ('4 TRADITIONAL SPINNING TOPS', 12))]"
      ]
     },
     "execution_count": 59,
     "metadata": {},
     "output_type": "execute_result"
    }
   ],
   "source": [
    "def max_value_pair(dict):\n",
    "    pairs = [(key, value) for key, value in dict.items()]\n",
    "    return max(pairs, key=lambda x:x[1])\n",
    "\n",
    "with open(path_to_commerce_data,'r') as file:\n",
    "    file.readline() # throw out headers\n",
    "    per_country = {}\n",
    "    for line in file:\n",
    "        line = line.strip().split(',')\n",
    "        if len(line) != 8:\n",
    "            continue\n",
    "        country, item, count = line[-1], line[2], int(line[3])\n",
    "        per_country[country] = per_country.get(country, {})\n",
    "        per_country[country][item] = per_country[country].get(item, 0) + count\n",
    "\n",
    "result_dict = {\n",
    "    key: max_value_pair(value) \n",
    "    for key,value in per_country.items()\n",
    "}\n",
    "\n",
    "sorted(result_dict.items(), key=lambda x:x[1][1], reverse=True)"
   ]
  },
  {
   "cell_type": "code",
   "execution_count": null,
   "id": "5d11c193-758d-4227-ab72-0609738d1b7f",
   "metadata": {},
   "outputs": [
    {
     "data": {
      "text/plain": [
       "data/commerce_data.csv MapPartitionsRDD[29] at textFile at NativeMethodAccessorImpl.java:0"
      ]
     },
     "execution_count": 33,
     "metadata": {},
     "output_type": "execute_result"
    }
   ],
   "source": [
    "file = sc.textFile(path_to_commerce_data)\n",
    "file.collect()[0:2]"
   ]
  },
  {
   "cell_type": "code",
   "execution_count": null,
   "id": "76724d9c",
   "metadata": {},
   "outputs": [
    {
     "data": {
      "text/plain": [
       "PythonRDD[31] at RDD at PythonRDD.scala:53"
      ]
     },
     "execution_count": 35,
     "metadata": {},
     "output_type": "execute_result"
    }
   ],
   "source": [
    "split_file = file.map(lambda x: x.split(','))\n",
    "split_file.collect()[0:2]"
   ]
  },
  {
   "cell_type": "code",
   "execution_count": 36,
   "id": "64d96fee",
   "metadata": {},
   "outputs": [
    {
     "name": "stderr",
     "output_type": "stream",
     "text": [
      "                                                                                \r"
     ]
    },
    {
     "data": {
      "text/plain": [
       "[(0,\n",
       "  ['InvoiceNo',\n",
       "   'StockCode',\n",
       "   'Description',\n",
       "   'Quantity',\n",
       "   'InvoiceDate',\n",
       "   'UnitPrice',\n",
       "   'CustomerID',\n",
       "   'Country']),\n",
       " (1,\n",
       "  ['536365',\n",
       "   '85123A',\n",
       "   'WHITE HANGING HEART T-LIGHT HOLDER',\n",
       "   '6',\n",
       "   '12/1/2010 8:26',\n",
       "   '2.55',\n",
       "   '17850',\n",
       "   'United Kingdom'])]"
      ]
     },
     "execution_count": 36,
     "metadata": {},
     "output_type": "execute_result"
    }
   ],
   "source": [
    "with_id = split_file.zipWithIndex().map(lambda x:(x[1], x[0]))\n",
    "with_id.collect()[0:2]"
   ]
  },
  {
   "cell_type": "code",
   "execution_count": null,
   "id": "8940afdc",
   "metadata": {},
   "outputs": [
    {
     "name": "stderr",
     "output_type": "stream",
     "text": [
      "                                                                                \r"
     ]
    },
    {
     "data": {
      "text/plain": [
       "[['536365',\n",
       "  '85123A',\n",
       "  'WHITE HANGING HEART T-LIGHT HOLDER',\n",
       "  '6',\n",
       "  '12/1/2010 8:26',\n",
       "  '2.55',\n",
       "  '17850',\n",
       "  'United Kingdom'],\n",
       " ['536365',\n",
       "  '71053',\n",
       "  'WHITE METAL LANTERN',\n",
       "  '6',\n",
       "  '12/1/2010 8:26',\n",
       "  '3.39',\n",
       "  '17850',\n",
       "  'United Kingdom']]"
      ]
     },
     "execution_count": 20,
     "metadata": {},
     "output_type": "execute_result"
    }
   ],
   "source": [
    "cleaned_data = with_id.filter(lambda x: len(x[1])==8 and x[0] != 0)\n",
    "data = cleaned_data.map(lambda x:x[1])\n",
    "data.collect()[0:2]"
   ]
  },
  {
   "cell_type": "code",
   "execution_count": null,
   "id": "1ff8395a",
   "metadata": {},
   "outputs": [
    {
     "data": {
      "text/plain": [
       "[('United Kingdom~WHITE HANGING HEART T-LIGHT HOLDER', 6),\n",
       " ('United Kingdom~WHITE METAL LANTERN', 6)]"
      ]
     },
     "execution_count": 21,
     "metadata": {},
     "output_type": "execute_result"
    }
   ],
   "source": [
    "combined_country_item_pair  = data.map(lambda x: (x[-1]+'~'+x[2], int(x[3])))\n",
    "combined_country_item_pair.collect()[0:2]"
   ]
  },
  {
   "cell_type": "code",
   "execution_count": null,
   "id": "b40e8ed9",
   "metadata": {},
   "outputs": [
    {
     "name": "stderr",
     "output_type": "stream",
     "text": [
      "                                                                                \r"
     ]
    },
    {
     "data": {
      "text/plain": [
       "[('United Kingdom~WHITE HANGING HEART T-LIGHT HOLDER', 33193),\n",
       " ('United Kingdom~WHITE METAL LANTERN', 1779)]"
      ]
     },
     "execution_count": 22,
     "metadata": {},
     "output_type": "execute_result"
    }
   ],
   "source": [
    "sum_combined_keys = combined_country_item_pair.reduceByKey(lambda v1,v2:v1+v2)\n",
    "sum_combined_keys.collect()[0:2]"
   ]
  },
  {
   "cell_type": "code",
   "execution_count": null,
   "id": "672d3743",
   "metadata": {},
   "outputs": [
    {
     "data": {
      "text/plain": [
       "[('United Kingdom', ['WHITE HANGING HEART T-LIGHT HOLDER', 33193]),\n",
       " ('United Kingdom', ['WHITE METAL LANTERN', 1779])]"
      ]
     },
     "execution_count": 23,
     "metadata": {},
     "output_type": "execute_result"
    }
   ],
   "source": [
    "uncombined_item_and_country = sum_combined_keys.map(lambda x: (x[0].split('~')[0], [x[0].split('~')[1], x[1]]))\n",
    "uncombined_item_and_country.collect()[0:2]"
   ]
  },
  {
   "cell_type": "code",
   "execution_count": null,
   "id": "99555c90",
   "metadata": {},
   "outputs": [
    {
     "data": {
      "text/plain": [
       "[('France', <pyspark.resultiterable.ResultIterable at 0x7ff6a39882b0>),\n",
       " ('Australia', <pyspark.resultiterable.ResultIterable at 0x7ff6af534490>)]"
      ]
     },
     "execution_count": 24,
     "metadata": {},
     "output_type": "execute_result"
    }
   ],
   "source": [
    "listOfTotalProduct_pairs = uncombined_item_and_country.groupByKey()\n",
    "listOfTotalProduct_pairs.collect()[0:2] # try expanding the iterable with a map operation + list comprehension"
   ]
  },
  {
   "cell_type": "code",
   "execution_count": null,
   "id": "dbf6e55f",
   "metadata": {},
   "outputs": [
    {
     "data": {
      "text/plain": [
       "[('France', ['RABBIT NIGHT LIGHT', 4023]),\n",
       " ('Australia', ['MINI PAINT SET VINTAGE ', 2916])]"
      ]
     },
     "execution_count": 25,
     "metadata": {},
     "output_type": "execute_result"
    }
   ],
   "source": [
    "country_max_bought_product  = listOfTotalProduct_pairs.map(lambda x: (x[0], max(x[1], key=lambda x:x[1])))\n",
    "country_max_bought_product.collect()[0:2]"
   ]
  },
  {
   "cell_type": "code",
   "execution_count": null,
   "id": "ef87861b",
   "metadata": {},
   "outputs": [
    {
     "data": {
      "text/plain": [
       "[('United Kingdom', 'WORLD WAR 2 GLIDERS ASSTD DESIGNS', 48326),\n",
       " ('Netherlands', 'RABBIT NIGHT LIGHT', 4801),\n",
       " ('France', 'RABBIT NIGHT LIGHT', 4023),\n",
       " ('Japan', 'RABBIT NIGHT LIGHT', 3401),\n",
       " ('Australia', 'MINI PAINT SET VINTAGE ', 2916),\n",
       " ('Sweden', 'MINI PAINT SET VINTAGE ', 2916),\n",
       " ('EIRE', 'PACK OF 72 RETROSPOT CAKE CASES', 1728),\n",
       " ('Germany', 'ROUND SNACK BOXES SET OF4 WOODLAND ', 1218),\n",
       " ('Spain', 'CHILDRENS CUTLERY POLKADOT PINK', 729),\n",
       " ('Switzerland', 'PLASTERS IN TIN WOODLAND ANIMALS', 639),\n",
       " ('Norway', 'SMALL FOLDING SCISSOR(POINTED EDGE)', 576),\n",
       " ('Canada', 'RETRO COFFEE MUGS ASSORTED', 504),\n",
       " ('Belgium', 'PACK OF 72 RETROSPOT CAKE CASES', 480),\n",
       " ('Finland', 'CHILDRENS CUTLERY POLKADOT PINK', 480),\n",
       " ('Channel Islands', 'RAIN PONCHO ', 407),\n",
       " ('Cyprus', 'HEART DECORATION PAINTED ZINC ', 384),\n",
       " ('Singapore', 'CHRISTMAS TREE PAINTED ZINC ', 384),\n",
       " ('Denmark', 'RED  HARMONICA IN BOX ', 288),\n",
       " ('Austria', 'SET 12 KIDS COLOUR  CHALK STICKS', 288),\n",
       " ('Portugal', 'POLKADOT PEN', 240),\n",
       " ('Iceland', 'ICE CREAM SUNDAE LIP GLOSS', 240),\n",
       " ('Italy', 'ICE CREAM BUBBLES', 200),\n",
       " ('Hong Kong', 'ROUND SNACK BOXES SET OF4 WOODLAND ', 150),\n",
       " ('Poland', 'STRAWBERRY CERAMIC TRINKET BOX', 144),\n",
       " ('Israel', 'WOODLAND CHARLOTTE BAG', 130),\n",
       " ('Bahrain', 'ICE CREAM SUNDAE LIP GLOSS', 96),\n",
       " ('Unspecified', 'WORLD WAR 2 GLIDERS ASSTD DESIGNS', 96),\n",
       " ('USA', 'SET 12 COLOURING PENCILS DOILY', 88),\n",
       " ('Malta', 'GRAND CHOCOLATECANDLE', 75),\n",
       " ('United Arab Emirates', 'BIG DOUGHNUT FRIDGE MAGNETS', 72),\n",
       " ('Czech Republic', 'WOODEN STAR CHRISTMAS SCANDINAVIAN', 72),\n",
       " ('Greece', '4 LAVENDER BOTANICAL DINNER CANDLES', 48),\n",
       " ('Lithuania', 'RED  HARMONICA IN BOX ', 48),\n",
       " ('Lebanon', 'ASSTD FRUIT+FLOWERS FRIDGE MAGNETS', 24),\n",
       " ('Brazil', 'DOLLY GIRL LUNCH BOX', 24),\n",
       " ('European Community', 'ROCKING HORSE RED CHRISTMAS ', 24),\n",
       " ('Saudi Arabia', 'ASSORTED BOTTLE TOP  MAGNETS ', 12),\n",
       " ('RSA', 'WOODEN BOX OF DOMINOES', 12)]"
      ]
     },
     "execution_count": 38,
     "metadata": {},
     "output_type": "execute_result"
    }
   ],
   "source": [
    "final_rdd = country_max_bought_product.sortBy(lambda x: x[1][1], ascending=False)\n",
    "final_rdd_flat = final_rdd.map(lambda x: (x[0],x[1][0],x[1][1]))\n",
    "final_rdd_flat.collect()"
   ]
  },
  {
   "cell_type": "code",
   "execution_count": null,
   "id": "f873de7d",
   "metadata": {},
   "outputs": [
    {
     "name": "stdout",
     "output_type": "stream",
     "text": [
      "+--------------+-----------------------------------+---------+\n",
      "|       country|                        description|quanitity|\n",
      "+--------------+-----------------------------------+---------+\n",
      "|United Kingdom|  WORLD WAR 2 GLIDERS ASSTD DESIGNS|    48326|\n",
      "|   Netherlands|                 RABBIT NIGHT LIGHT|     4801|\n",
      "|        France|                 RABBIT NIGHT LIGHT|     4023|\n",
      "|         Japan|                 RABBIT NIGHT LIGHT|     3401|\n",
      "|     Australia|            MINI PAINT SET VINTAGE |     2916|\n",
      "|        Sweden|            MINI PAINT SET VINTAGE |     2916|\n",
      "|          EIRE|    PACK OF 72 RETROSPOT CAKE CASES|     1728|\n",
      "|       Germany|ROUND SNACK BOXES SET OF4 WOODLAND |     1218|\n",
      "|         Spain|    CHILDRENS CUTLERY POLKADOT PINK|      729|\n",
      "|   Switzerland|   PLASTERS IN TIN WOODLAND ANIMALS|      639|\n",
      "+--------------+-----------------------------------+---------+\n",
      "only showing top 10 rows\n",
      "\n"
     ]
    }
   ],
   "source": [
    "rdd_to_df = spark.createDataFrame(final_rdd_flat, [\"country\", \"description\", \"quanitity\"])\n",
    "rdd_to_df.show(10,100)"
   ]
  },
  {
   "cell_type": "code",
   "execution_count": null,
   "id": "ed24745a",
   "metadata": {},
   "outputs": [
    {
     "name": "stdout",
     "output_type": "stream",
     "text": [
      "root\n",
      " |-- InvoiceNo: string (nullable = true)\n",
      " |-- StockCode: string (nullable = true)\n",
      " |-- Description: string (nullable = true)\n",
      " |-- Quantity: integer (nullable = true)\n",
      " |-- InvoiceDate: string (nullable = true)\n",
      " |-- UnitPrice: double (nullable = true)\n",
      " |-- CustomerID: integer (nullable = true)\n",
      " |-- Country: string (nullable = true)\n",
      "\n",
      "+---------+---------+-----------------------------------+--------+--------------+---------+----------+--------------+\n",
      "|InvoiceNo|StockCode|                        Description|Quantity|   InvoiceDate|UnitPrice|CustomerID|       Country|\n",
      "+---------+---------+-----------------------------------+--------+--------------+---------+----------+--------------+\n",
      "|   536365|   85123A| WHITE HANGING HEART T-LIGHT HOLDER|       6|12/1/2010 8:26|     2.55|     17850|United Kingdom|\n",
      "|   536365|    71053|                WHITE METAL LANTERN|       6|12/1/2010 8:26|     3.39|     17850|United Kingdom|\n",
      "|   536365|   84406B|     CREAM CUPID HEARTS COAT HANGER|       8|12/1/2010 8:26|     2.75|     17850|United Kingdom|\n",
      "|   536365|   84029G|KNITTED UNION FLAG HOT WATER BOTTLE|       6|12/1/2010 8:26|     3.39|     17850|United Kingdom|\n",
      "|   536365|   84029E|     RED WOOLLY HOTTIE WHITE HEART.|       6|12/1/2010 8:26|     3.39|     17850|United Kingdom|\n",
      "|   536365|    22752|       SET 7 BABUSHKA NESTING BOXES|       2|12/1/2010 8:26|     7.65|     17850|United Kingdom|\n",
      "|   536365|    21730|  GLASS STAR FROSTED T-LIGHT HOLDER|       6|12/1/2010 8:26|     4.25|     17850|United Kingdom|\n",
      "|   536366|    22633|             HAND WARMER UNION JACK|       6|12/1/2010 8:28|     1.85|     17850|United Kingdom|\n",
      "|   536366|    22632|          HAND WARMER RED POLKA DOT|       6|12/1/2010 8:28|     1.85|     17850|United Kingdom|\n",
      "|   536367|    84879|      ASSORTED COLOUR BIRD ORNAMENT|      32|12/1/2010 8:34|     1.69|     13047|United Kingdom|\n",
      "+---------+---------+-----------------------------------+--------+--------------+---------+----------+--------------+\n",
      "only showing top 10 rows\n",
      "\n"
     ]
    }
   ],
   "source": [
    "df = spark.read.csv('data/commerce_data.csv', header=True, inferSchema=True)\n",
    "df.printSchema()\n",
    "df.createOrReplaceTempView(\"original\")\n",
    "df.show(10,100)"
   ]
  },
  {
   "cell_type": "code",
   "execution_count": 62,
   "id": "30e5bee3",
   "metadata": {},
   "outputs": [
    {
     "name": "stdout",
     "output_type": "stream",
     "text": [
      "+-----------------------------------+--------------+-------------+\n",
      "|                        Description|       Country|TotalQuantity|\n",
      "+-----------------------------------+--------------+-------------+\n",
      "|       HOMEMADE JAM SCENTED CANDLES|United Kingdom|        10282|\n",
      "|         FAMILY PHOTO FRAME CORNICE|United Kingdom|          807|\n",
      "|GREEN DRAWER KNOB ACRYLIC EDWARDIAN|United Kingdom|         1919|\n",
      "|ASSORTED COLOUR LIZARD SUCTION HOOK|       Germany|           48|\n",
      "|             KITTENS DESIGN FLANNEL|United Kingdom|          289|\n",
      "|                     FUNKY DIVA PEN|United Kingdom|         7236|\n",
      "|   ANT COPPER RED BOUDICCA BRACELET|United Kingdom|           24|\n",
      "|       MIRRORED WALL ART TABLE LAMP|United Kingdom|           68|\n",
      "|         SKULLS AND CROSSBONES WRAP|United Kingdom|         5500|\n",
      "|       POLYESTER FILLER PAD 45x30cm|United Kingdom|          103|\n",
      "+-----------------------------------+--------------+-------------+\n",
      "only showing top 10 rows\n",
      "\n"
     ]
    }
   ],
   "source": [
    "tm = df.groupBy([\"Description\",\"Country\"]) \\\n",
    "        .agg({\"Quantity\":\"sum\"}) \\\n",
    "        .withColumnRenamed(\"sum(Quantity)\", \"TotalQuantity\") \n",
    "\n",
    "tm.createOrReplaceTempView(\"aggrigated\") # allows using 'FROM aggrigated' in spark.sql queries\n",
    "\n",
    "tm.show(10,100)"
   ]
  },
  {
   "cell_type": "code",
   "execution_count": null,
   "id": "47c4f624",
   "metadata": {},
   "outputs": [
    {
     "name": "stdout",
     "output_type": "stream",
     "text": [
      "+---------------------------------+---------+-------------+----+\n",
      "|                      Description|  Country|TotalQuantity|rank|\n",
      "+---------------------------------+---------+-------------+----+\n",
      "|          MINI PAINT SET VINTAGE |Australia|         2916|   1|\n",
      "|               RABBIT NIGHT LIGHT|Australia|         1884|   2|\n",
      "|           RED  HARMONICA IN BOX |Australia|         1704|   3|\n",
      "|    RED TOADSTOOL LED NIGHT LIGHT|Australia|         1344|   4|\n",
      "|             DOLLY GIRL LUNCH BOX|Australia|         1024|   5|\n",
      "|     HOMEMADE JAM SCENTED CANDLES|Australia|          994|   6|\n",
      "|              SPACEBOY LUNCH BOX |Australia|          960|   7|\n",
      "|           BLUE HARMONICA IN BOX |Australia|          720|   8|\n",
      "|             MINI JIGSAW SPACEBOY|Australia|          720|   8|\n",
      "|      4 TRADITIONAL SPINNING TOPS|Australia|          700|  10|\n",
      "|SET OF 6 SPICE TINS PANTRY DESIGN|Australia|          600|  11|\n",
      "|        ASSORTED COLOURS SILK FAN|Australia|          600|  11|\n",
      "|           KEY FOB , FRONT  DOOR |Australia|          576|  13|\n",
      "|          KEY FOB , GARAGE DESIGN|Australia|          576|  13|\n",
      "|                   KEY FOB , SHED|Australia|          576|  13|\n",
      "|         CIRCUS PARADE LUNCH BOX |Australia|          576|  13|\n",
      "|      LUNCH BAG DOLLY GIRL DESIGN|Australia|          530|  17|\n",
      "|        SET OF 6 SOLDIER SKITTLES|Australia|          496|  18|\n",
      "|           MINI JIGSAW DOLLY GIRL|Australia|          480|  19|\n",
      "|SET OF 3 CAKE TINS PANTRY DESIGN |Australia|          463|  20|\n",
      "|       LUNCH BAG SPACEBOY DESIGN |Australia|          450|  21|\n",
      "|      SET/6 RED SPOTTY PAPER CUPS|Australia|          444|  22|\n",
      "| TRADITIONAL WOODEN SKIPPING ROPE|Australia|          432|  23|\n",
      "|PACK OF 12 CIRCUS PARADE TISSUES |Australia|          432|  23|\n",
      "|     PACK OF 12 WOODLAND TISSUES |Australia|          432|  23|\n",
      "| PACK OF 12 PINK PAISLEY TISSUES |Australia|          432|  23|\n",
      "|    BISCUIT TIN VINTAGE CHRISTMAS|Australia|          432|  23|\n",
      "|               SPACEBOY GIFT WRAP|Australia|          425|  28|\n",
      "|SET OF 12 FAIRY CAKE BAKING CASES|Australia|          424|  29|\n",
      "| SET OF 12 MINI LOAF BAKING CASES|Australia|          424|  29|\n",
      "+---------------------------------+---------+-------------+----+\n",
      "only showing top 30 rows\n",
      "\n"
     ]
    }
   ],
   "source": [
    "aggrigate = spark.sql(                            # SQL window function that ranks to all entries (partitioned by country) based on their TotalQuntity\n",
    "    \" SELECT Description, Country, TotalQuantity, RANK() OVER (PARTITION BY Country SORT BY TotalQuantity DESC) AS rank \\\n",
    "      FROM aggrigated\"\n",
    ")\n",
    "aggrigate.show(10,200)\n",
    "aggrigate.createOrReplaceTempView(\"aggrigate\")"
   ]
  },
  {
   "cell_type": "code",
   "execution_count": 64,
   "id": "a9982500",
   "metadata": {},
   "outputs": [
    {
     "name": "stdout",
     "output_type": "stream",
     "text": [
      "+----------------------------------+---------+-------------+\n",
      "|                       Description|  Country|TotalQuantity|\n",
      "+----------------------------------+---------+-------------+\n",
      "|           MINI PAINT SET VINTAGE |Australia|         2916|\n",
      "|  SET 12 KIDS COLOUR  CHALK STICKS|  Austria|          288|\n",
      "|        ICE CREAM SUNDAE LIP GLOSS|  Bahrain|           96|\n",
      "|   PACK OF 72 RETROSPOT CAKE CASES|  Belgium|          480|\n",
      "|  ROSES REGENCY TEACUP AND SAUCER |   Brazil|           24|\n",
      "|SET/3 RED GINGHAM ROSE STORAGE BOX|   Brazil|           24|\n",
      "|    PINK REGENCY TEACUP AND SAUCER|   Brazil|           24|\n",
      "|      SET OF 4 PANTRY JELLY MOULDS|   Brazil|           24|\n",
      "|              DOLLY GIRL LUNCH BOX|   Brazil|           24|\n",
      "|         SMALL HEART FLOWERS HOOK |   Brazil|           24|\n",
      "+----------------------------------+---------+-------------+\n",
      "only showing top 10 rows\n",
      "\n"
     ]
    }
   ],
   "source": [
    "result_df = spark.sql(\"SELECT Description, Country, TotalQuantity FROM aggrigate WHERE rank==1\")\n",
    "result_df.show(10,100)"
   ]
  },
  {
   "cell_type": "code",
   "execution_count": 65,
   "id": "b5467267",
   "metadata": {},
   "outputs": [
    {
     "name": "stdout",
     "output_type": "stream",
     "text": [
      "+-----------------------------------+--------------+-------------+\n",
      "|                        Description|       Country|TotalQuantity|\n",
      "+-----------------------------------+--------------+-------------+\n",
      "|  WORLD WAR 2 GLIDERS ASSTD DESIGNS|United Kingdom|        48326|\n",
      "|                 RABBIT NIGHT LIGHT|   Netherlands|         4801|\n",
      "|                 RABBIT NIGHT LIGHT|        France|         4023|\n",
      "|                 RABBIT NIGHT LIGHT|         Japan|         3401|\n",
      "|            MINI PAINT SET VINTAGE |     Australia|         2916|\n",
      "|            MINI PAINT SET VINTAGE |        Sweden|         2916|\n",
      "|    PACK OF 72 RETROSPOT CAKE CASES|          EIRE|         1728|\n",
      "|ROUND SNACK BOXES SET OF4 WOODLAND |       Germany|         1218|\n",
      "|    CHILDRENS CUTLERY POLKADOT PINK|         Spain|          729|\n",
      "|   PLASTERS IN TIN WOODLAND ANIMALS|   Switzerland|          639|\n",
      "+-----------------------------------+--------------+-------------+\n",
      "only showing top 10 rows\n",
      "\n"
     ]
    }
   ],
   "source": [
    "final_result = result_df.dropDuplicates([\"Country\"]).sort(f.desc(\"TotalQuantity\"))\n",
    "final_result.show(10,100)"
   ]
  }
 ],
 "metadata": {
  "kernelspec": {
   "display_name": "spark",
   "language": "python",
   "name": "python3"
  },
  "language_info": {
   "codemirror_mode": {
    "name": "ipython",
    "version": 3
   },
   "file_extension": ".py",
   "mimetype": "text/x-python",
   "name": "python",
   "nbconvert_exporter": "python",
   "pygments_lexer": "ipython3",
   "version": "3.10.15"
  }
 },
 "nbformat": 4,
 "nbformat_minor": 5
}
